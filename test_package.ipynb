{
 "cells": [
  {
   "cell_type": "code",
   "execution_count": null,
   "metadata": {},
   "outputs": [],
   "source": [
    "#%pip install yfinance\n",
    "#%pip install cython\n",
    "#%pip install numba\n",
    "#%pip install btcagent"
   ]
  },
  {
   "cell_type": "code",
   "execution_count": null,
   "metadata": {},
   "outputs": [],
   "source": [
    "import numpy as np\n",
    "import numba\n",
    "import yfinance as yf\n",
    "import pandas as pd\n",
    "import btcagent\n",
    "\n",
    "ticker = \"BTC-USD\"\n",
    "data = yf.Ticker(ticker)\n",
    "\n",
    "start_date = \"2024-11-16\"\n",
    "end_date = \"2024-11-24\"\n",
    "\n",
    "minute_data = data.history(start=start_date, end=end_date, interval=\"1m\")\n",
    "len(minute_data)"
   ]
  },
  {
   "cell_type": "code",
   "execution_count": null,
   "metadata": {},
   "outputs": [],
   "source": [
    "prices = np.array(minute_data).T[0]\n",
    "\n",
    "window_size = 30000\n",
    "sell_window_size = 600  # 1m\n",
    "\n",
    "map_freq = btcagent.get_freq(prices, window_size, sell_window_size, nbins=1000)"
   ]
  },
  {
   "cell_type": "code",
   "execution_count": null,
   "metadata": {},
   "outputs": [],
   "source": [
    "nbins = 1000\n",
    "\n",
    "ref_freq1 = -1000\n",
    "ref_freq2 = -3\n",
    "\n",
    "target = 6\n",
    "\n",
    "print(btcagent.compute_expected_return(map_freq, target, ref_freq1, ref_freq2, nbins))"
   ]
  },
  {
   "cell_type": "code",
   "execution_count": null,
   "metadata": {},
   "outputs": [],
   "source": [
    "wallet_value, BTC, USDT = btcagent.bitcoin_agent(\n",
    "    prices=prices, wc=300, wv=300, epsc=0.01, epsv=0.03, USDTo=100, BTCo=0\n",
    ")\n",
    "print(wallet_value, BTC, USDT)"
   ]
  },
  {
   "cell_type": "code",
   "execution_count": null,
   "metadata": {},
   "outputs": [],
   "source": [
    "np.random.seed(1231545)\n",
    "result = btcagent.optimize_agent(\n",
    "    prices=prices,\n",
    "    USDTo=100,\n",
    "    BTCo=0,\n",
    "    range_wc=[1, 900],\n",
    "    range_wv=[1, 900],\n",
    "    range_epsc=[0.0, 0.3],\n",
    "    range_epsv=[0.0, 0.5],\n",
    "    n_scenarios=50_000,\n",
    ")"
   ]
  },
  {
   "cell_type": "code",
   "execution_count": null,
   "metadata": {},
   "outputs": [],
   "source": [
    "result"
   ]
  },
  {
   "cell_type": "code",
   "execution_count": null,
   "metadata": {},
   "outputs": [],
   "source": [
    "wc=result[1]\n",
    "wv=result[2]\n",
    "epsc=result[3]\n",
    "epsv=result[4]"
   ]
  },
  {
   "cell_type": "code",
   "execution_count": null,
   "metadata": {},
   "outputs": [],
   "source": [
    "buy_price, sell_price = btcagent.get_target_prices(prices, wc, wv, epsc, epsv)\n",
    "\n",
    "print(buy_price, sell_price)"
   ]
  }
 ],
 "metadata": {
  "kernelspec": {
   "display_name": "geostatistics",
   "language": "python",
   "name": "python3"
  },
  "language_info": {
   "codemirror_mode": {
    "name": "ipython",
    "version": 3
   },
   "file_extension": ".py",
   "mimetype": "text/x-python",
   "name": "python",
   "nbconvert_exporter": "python",
   "pygments_lexer": "ipython3",
   "version": "3.12.3"
  }
 },
 "nbformat": 4,
 "nbformat_minor": 2
}
